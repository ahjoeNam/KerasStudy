{
  "cells": [
    {
      "cell_type": "code",
      "execution_count": 11,
      "metadata": {},
      "outputs": [
        {
          "data": {
            "text/plain": [
              "(-5+5j)"
            ]
          },
          "execution_count": 11,
          "metadata": {},
          "output_type": "execute_result"
        }
      ],
      "source": [
        "# 이 셀은 두 개의 복소수 (1+2j)와 (1+3j)를 곱하고 결과를 표시합니다.\n(1+2j)*(1+3j)"
      ]
    },
    {
      "cell_type": "code",
      "execution_count": 37,
      "metadata": {},
      "outputs": [
        {
          "name": "stdout",
          "output_type": "stream",
          "text": [
            "\n",
            "X\n",
            "XX\n",
            "XXX\n",
            "XXXX\n",
            "XXXXX\n",
            "XXXXXX\n",
            "XXXXXXX\n",
            "XXXXXXXX\n",
            "XXXXXXXXX\n"
          ]
        }
      ],
      "source": [
        "# 이 셀은 'X'의 오른쪽 각 삼각형 패턴을 출력하는 루프를 포함합니다. 각 라인에서 'X'의 수가 0에서 9까지 증가합니다.\nfor i in range(10):\n    print('X'*i)\n"
      ]
    },
    {
      "cell_type": "code",
      "execution_count": 43,
      "metadata": {},
      "outputs": [
        {
          "data": {
            "text/plain": [
              "18.06179973983887"
            ]
          },
          "execution_count": 43,
          "metadata": {},
          "output_type": "execute_result"
        }
      ],
      "source": [
        "# 이 셀은 2의 60제곱의 밑이 10인 로그를 계산합니다. 이는 컴퓨팅 및 데이터 저장에서 큰 숫자의 크기를 이해하는 방법입니다.\nimport math as m\nm.log10(2**60) # exa"
      ]
    },
    {
      "cell_type": "code",
      "execution_count": 44,
      "metadata": {},
      "outputs": [
        {
          "data": {
            "text/plain": [
              "['ArithmeticError',\n 'AssertionError',\n 'AttributeError',\n 'BaseException',\n 'BlockingIOError',\n 'BrokenPipeError',\n 'BufferError',\n 'BytesWarning',\n 'ChildProcessError',\n 'ConnectionAbortedError',\n 'ConnectionError',\n 'ConnectionRefusedError',\n 'ConnectionResetError',\n 'DeprecationWarning',\n 'EOFError',\n 'Ellipsis',\n 'EnvironmentError',\n 'Exception',\n 'False',\n 'FileExistsError',\n 'FileNotFoundError',\n 'FloatingPointError',\n 'FutureWarning',\n 'GeneratorExit',\n 'IOError',\n 'ImportError',\n 'ImportWarning',\n 'IndentationError',\n 'IndexError',\n 'InterruptedError',\n 'IsADirectoryError',\n 'KeyError',\n 'KeyboardInterrupt',\n 'LookupError',\n 'MemoryError',\n 'ModuleNotFoundError',\n 'NameError',\n 'None',\n 'NotADirectoryError',\n 'NotImplemented',\n 'NotImplementedError',\n 'OSError',\n 'OverflowError',\n 'PendingDeprecationWarning',\n 'PermissionError',\n 'ProcessLookupError',\n 'RecursionError',\n 'ReferenceError',\n 'ResourceWarning',\n 'RuntimeError',\n 'RuntimeWarning',\n 'StopAsyncIteration',\n 'StopIteration',\n 'SyntaxError',\n 'SyntaxWarning',\n 'SystemError',\n 'SystemExit',\n 'TabError',\n 'TimeoutError',\n 'True',\n 'TypeError',\n 'UnboundLocalError',\n 'UnicodeDecodeError',\n 'UnicodeEncodeError',\n 'UnicodeError',\n 'UnicodeTranslateError',\n 'UnicodeWarning',\n 'UserWarning',\n 'ValueError',\n 'Warning',\n 'ZeroDivisionError',\n '__IPYTHON__',\n '__build_class__',\n '__debug__',\n '__doc__',\n '__import__',\n '__loader__',\n '__name__',\n '__package__',\n '__spec__',\n 'abs',\n 'all',\n 'any',\n 'ascii',\n 'bin',\n 'bool',\n 'bytearray',\n 'bytes',\n 'callable',\n 'chr',\n 'classmethod',\n 'compile',\n 'complex',\n 'copyright',\n 'credits',\n 'delattr',\n 'dict',\n 'dir',\n 'display',\n 'divmod',\n 'enumerate',\n 'eval',\n 'exec',\n 'filter',\n 'float',\n 'format',\n 'frozenset',\n 'get_ipython',\n 'getattr',\n 'globals',\n 'hasattr',\n 'hash',\n 'help',\n 'hex',\n 'id',\n 'input',\n 'int',\n 'isinstance',\n 'issubclass',\n 'iter',\n 'len',\n 'license',\n 'list',\n 'locals',\n 'map',\n 'max',\n 'memoryview',\n 'min',\n 'next',\n 'object',\n 'oct',\n 'open',\n 'ord',\n 'pow',\n 'print',\n 'property',\n 'range',\n 'repr',\n 'reversed',\n 'round',\n 'set',\n 'setattr',\n 'slice',\n 'sorted',\n 'staticmethod',\n 'str',\n 'sum',\n 'super',\n 'tuple',\n 'type',\n 'vars',\n 'zip']\n"
            ]
          },
          "execution_count": 44,
          "metadata": {},
          "output_type": "execute_result"
        }
      ],
      "source": [
        "# 이 셀은 파이썬에서 직접 글로벌 네임스페이스에서 가져올 수 있는 내장 식별자들을 나열합니다. 여기에는 예외, 데이터 타입, 임포트 없이 직접 접근 가능한 함수들이 포함됩니다.\ndir(__builtins__)"
      ]
    },
    {
      "cell_type": "code",
      "execution_count": 58,
      "metadata": {},
      "outputs": [
        {
          "name": "stdout",
          "output_type": "stream",
          "text": [
            "3\n",
            "4\n",
            "5\n"
          ]
        },
        {
          "data": {
            "text/plain": [
              "[0, 3, 6, 9]"
            ]
          },
          "execution_count": 58,
          "metadata": {},
          "output_type": "execute_result"
        }
      ],
      "source": [
        "# 이 셀은 파이썬의 range 객체를 사용한 슬라이싱 및 리스트 컴프리헨션을 시연합니다.\n# 먼저, 0부터 19까지의 숫자 범위를 정의합니다.\n# 그 다음, 범위의 네 번째 항목(인덱스 3, 숫자 3)을 출력합니다.\n# 다음으로, 범위의 인덱스 3에서 5까지의 슬라이스를 순회하며 각 숫자를 출력합니다.\n# 마지막으로, 원래 범위의 첫 10개 숫자에서 세 번째마다 있는 숫자로 새 리스트를 만드는 리스트 컴프리헨션을 사용합니다.\nl=range(20)\nl[3:4]\nfor i in l[3:6]:\n    print(i)\n[i for i in l[0:10:3]]"
      ]
    }
  ],
  "metadata": {
    "kernelspec": {
      "display_name": "Python 3",
      "language": "python",
      "name": "python3"
    },
    "language_info": {
      "codemirror_mode": {
        "name": "ipython",
        "version": 3
      },
      "file_extension": ".py",
      "mimetype": "text/x-python",
      "name": "python",
      "nbconvert_exporter": "python",
      "pygments_lexer": "ipython3",
      "version": "3.6.8"
    }
  },
  "nbformat": 4,
  "nbformat_minor": 4
}
